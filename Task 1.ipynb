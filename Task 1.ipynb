{
 "cells": [
  {
   "cell_type": "code",
   "execution_count": 21,
   "metadata": {},
   "outputs": [
    {
     "name": "stdout",
     "output_type": "stream",
     "text": [
      "Введите название файла: Dima&?\n",
      "Следующие символы недопустимы:\n",
      "+ \\ / : * ? \" < > |\n"
     ]
    }
   ],
   "source": [
    "try:\n",
    "    Name = input('Введите название файла: ')\n",
    "    with open(Name,'w') as file:\n",
    "        file.write('')\n",
    "except OSError:\n",
    "    print('Следующие символы недопустимы:\\n+ \\ / : * ? \" < > |')\n",
    "except IOError:\n",
    "    print('Файл не найден')\n",
    "file.close()\n",
    "\n",
    "    \n"
   ]
  }
 ],
 "metadata": {
  "kernelspec": {
   "display_name": "Python 3",
   "language": "python",
   "name": "python3"
  },
  "language_info": {
   "codemirror_mode": {
    "name": "ipython",
    "version": 3
   },
   "file_extension": ".py",
   "mimetype": "text/x-python",
   "name": "python",
   "nbconvert_exporter": "python",
   "pygments_lexer": "ipython3",
   "version": "3.8.2"
  }
 },
 "nbformat": 4,
 "nbformat_minor": 4
}
