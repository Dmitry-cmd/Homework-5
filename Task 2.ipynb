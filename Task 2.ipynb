{
 "cells": [
  {
   "cell_type": "code",
   "execution_count": 46,
   "metadata": {},
   "outputs": [
    {
     "name": "stdout",
     "output_type": "stream",
     "text": [
      "Введите название файла: Prog_1\n",
      "Введите колличество рядов: 6\n",
      "Введите колличество символов: 3\n"
     ]
    }
   ],
   "source": [
    "Name = input('Введите название файла: ')\n",
    "N = int(input('Введите колличество рядов: '))\n",
    "K = int(input('Введите колличество символов: '))\n",
    "D = K * '*' + '\\n'\n",
    "with open (Name,'w') as file:\n",
    "    for _ in range(N):\n",
    "        file.write(D)\n",
    "\n",
    "file.close()"
   ]
  }
 ],
 "metadata": {
  "kernelspec": {
   "display_name": "Python 3",
   "language": "python",
   "name": "python3"
  },
  "language_info": {
   "codemirror_mode": {
    "name": "ipython",
    "version": 3
   },
   "file_extension": ".py",
   "mimetype": "text/x-python",
   "name": "python",
   "nbconvert_exporter": "python",
   "pygments_lexer": "ipython3",
   "version": "3.8.2"
  }
 },
 "nbformat": 4,
 "nbformat_minor": 4
}
