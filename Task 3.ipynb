{
 "cells": [
  {
   "cell_type": "code",
   "execution_count": 16,
   "metadata": {},
   "outputs": [
    {
     "name": "stdout",
     "output_type": "stream",
     "text": [
      "\n",
      "\n",
      "\n",
      "Santa Fanta\n",
      "\n",
      "Santa Fanta\n",
      "\n",
      "Santa Fanta\n"
     ]
    }
   ],
   "source": [
    "File = open('Prog_1.txt','w')\n",
    "d = 'Santa Fanta\\nSanta Fanta\\nSanta Fanta\\nSanta Fanta'\n",
    "File.write(d)\n",
    "File.close()\n",
    "print()\n",
    "with open ('Prog_1.txt','r') as f:\n",
    "    lines = f.readlines()\n",
    "print()\n",
    "with open ('Prog_1.txt','w') as f:\n",
    "    f.writelines(lines[1:])\n",
    "f.close()\n",
    "print()\n",
    "with open ('Prog_1.txt','r') as f:\n",
    "    for line in f:\n",
    "        print(line)"
   ]
  },
  {
   "cell_type": "code",
   "execution_count": null,
   "metadata": {},
   "outputs": [],
   "source": []
  }
 ],
 "metadata": {
  "kernelspec": {
   "display_name": "Python 3",
   "language": "python",
   "name": "python3"
  },
  "language_info": {
   "codemirror_mode": {
    "name": "ipython",
    "version": 3
   },
   "file_extension": ".py",
   "mimetype": "text/x-python",
   "name": "python",
   "nbconvert_exporter": "python",
   "pygments_lexer": "ipython3",
   "version": "3.8.2"
  }
 },
 "nbformat": 4,
 "nbformat_minor": 4
}
